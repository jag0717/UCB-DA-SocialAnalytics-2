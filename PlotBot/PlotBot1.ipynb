{
 "cells": [
  {
   "cell_type": "code",
   "execution_count": 1,
   "metadata": {
    "collapsed": true
   },
   "outputs": [],
   "source": [
    "# Dependencies\n",
    "import tweepy\n",
    "import time\n",
    "import yaml"
   ]
  },
  {
   "cell_type": "code",
   "execution_count": 2,
   "metadata": {
    "collapsed": true
   },
   "outputs": [],
   "source": [
    "TWITTER_CONFIG_FILE = 'auth1.yaml'\n",
    "\n",
    "with open(TWITTER_CONFIG_FILE, 'r') as config_file:\n",
    "    config = yaml.load(config_file)\n",
    "    \n",
    "# Twitter API Keys\n",
    "consumer_key = config['twitter']['consumer_key']\n",
    "consumer_secret = config['twitter']['consumer_secret']\n",
    "access_token = config['twitter']['access_token']\n",
    "access_token_secret = config['twitter']['access_token_secret']"
   ]
  },
  {
   "cell_type": "code",
   "execution_count": 3,
   "metadata": {
    "collapsed": true
   },
   "outputs": [],
   "source": [
    "# Twitter Credentials\n",
    "auth = tweepy.OAuthHandler(consumer_key, consumer_secret)\n",
    "auth.set_access_token(access_token, access_token_secret)\n",
    "api = tweepy.API(auth, parser=tweepy.parsers.JSONParser())"
   ]
  },
  {
   "cell_type": "code",
   "execution_count": 4,
   "metadata": {
    "collapsed": true
   },
   "outputs": [],
   "source": [
    "# Target Term\n",
    "my_username = \"JagTest1\"\n",
    "conversation_partner = \"@JagathaTest2\"\n",
    "response_lines = [\n",
    "                  #\"%s Analyze user 1 %s\" % (conversation_partner, \"@CBS\"),\n",
    "                  #\"%s Analyze user 2 %s\" % (conversation_partner, \"@BBC\"),\n",
    "                  #\"%s Analyze user 4 %s\" % (conversation_partner, \"@nytimes\"),\n",
    "                  #\"%s Analyze user 1 %s\" % (conversation_partner, \"@BarackObama\"),\n",
    "                  #\"%s Analyze user (music) %s\" % (conversation_partner, \"@ladygaga\"),\n",
    "                  #\"%s Analyze user (arts) %s\" % (conversation_partner, \"@ladygaga\"),\n",
    "                  #\"%s Analyze user (politics) %s\" % (conversation_partner, \"@BarackObama\"),\n",
    "                  #\"%s Analyze user (business) %s\" % (conversation_partner, \"@BillGates\")\n",
    "                  \"%s Analyze User: %s\" % (conversation_partner, \"@ladygaga\"),\n",
    "                  \"%s Analyze User: %s\" % (conversation_partner, \"@BarackObama\"),\n",
    "                  \"%s Analyze User: %s\" % (conversation_partner, \"@BillGates\"),\n",
    "                  \"%s Analyze User: %s\" % (conversation_partner, \"@realDonaldTrump\")\n",
    "                 ]"
   ]
  },
  {
   "cell_type": "code",
   "execution_count": 5,
   "metadata": {
    "collapsed": true
   },
   "outputs": [],
   "source": [
    "# Create Tweet_Test function\n",
    "def Tweet_Test(n):\n",
    "    try:\n",
    "        api.update_status(response_lines[n])\n",
    "        print(\"Tweeted Successfully.\")\n",
    "    except tweepy.TweepError as e:\n",
    "        print(\"Exception :\"+ e.reason)"
   ]
  },
  {
   "cell_type": "code",
   "execution_count": 6,
   "metadata": {},
   "outputs": [
    {
     "name": "stdout",
     "output_type": "stream",
     "text": [
      "Iteration :1\n",
      "Tweeted Successfully.\n",
      "Executing finally clause.\n",
      "Iteration :2\n",
      "Tweeted Successfully.\n",
      "Executing finally clause.\n",
      "Iteration :3\n",
      "Tweeted Successfully.\n",
      "Executing finally clause.\n"
     ]
    }
   ],
   "source": [
    "# Set timer to run every 5 minutes\n",
    "counter = 0\n",
    "\n",
    "while(True):\n",
    "    try:\n",
    "        print(\"Iteration :\"+str(counter+1))\n",
    "        Tweet_Test(counter)\n",
    "        time.sleep(300)\n",
    "        counter = counter + 1\n",
    "        if counter == 3:\n",
    "            break\n",
    "    except RuntimeError:\n",
    "        print(\"Runtime Error.\")\n",
    "        pass\n",
    "    finally:\n",
    "        print(\"Executing finally clause.\")"
   ]
  },
  {
   "cell_type": "code",
   "execution_count": null,
   "metadata": {
    "collapsed": true
   },
   "outputs": [],
   "source": []
  }
 ],
 "metadata": {
  "kernelspec": {
   "display_name": "Python 3",
   "language": "python",
   "name": "python3"
  },
  "language_info": {
   "codemirror_mode": {
    "name": "ipython",
    "version": 3
   },
   "file_extension": ".py",
   "mimetype": "text/x-python",
   "name": "python",
   "nbconvert_exporter": "python",
   "pygments_lexer": "ipython3",
   "version": "3.6.3"
  }
 },
 "nbformat": 4,
 "nbformat_minor": 2
}
